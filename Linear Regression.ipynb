{
 "cells": [
  {
   "cell_type": "code",
   "execution_count": 2,
   "metadata": {},
   "outputs": [],
   "source": [
    "import numpy as np\n",
    "import pandas as pd\n",
    "import matplotlib.pyplot as plt"
   ]
  },
  {
   "cell_type": "code",
   "execution_count": 3,
   "metadata": {},
   "outputs": [],
   "source": [
    "#抽取200组数据\n",
    "X_i=[]\n",
    "epsilon_i=[]\n",
    "Y_i=[]\n",
    "for i in range(1000):\n",
    "    X=np.random.RandomState(i).randn(1,100)\n",
    "    epsilon=np.random.RandomState(1000+i).randn(1,100)\n",
    "    X_i.append(X)\n",
    "    epsilon_i.append(epsilon)\n",
    "    Y_i.append((np.ones([1,100])+(2*np.array(X))+np.array(epsilon[0])))"
   ]
  },
  {
   "cell_type": "code",
   "execution_count": 9,
   "metadata": {},
   "outputs": [],
   "source": [
    "#创建模型\n",
    "class Model:\n",
    "    def __init__(self):\n",
    "        self.alpha=None\n",
    "        self.beta=None\n",
    "        self.r2=None\n",
    "        self.mse=None\n",
    "        \n",
    "    def fit(self,X,Y):\n",
    "        Xbar=X.mean()\n",
    "        Ybar=Y.mean()\n",
    "        x_ad=X-Xbar\n",
    "        y_ad=Y-Ybar\n",
    "        lxx=sum(x_ad**2)\n",
    "        lyy=sum(y_ad**2)\n",
    "        lxy=sum(x_ad*y_ad)\n",
    "        self.alpha=lxy/lxx\n",
    "        self.beta=Ybar-self.alpha*Xbar\n",
    "        Yhat=self.alpha*X+self.beta\n",
    "        self.mse=(sum((Yhat-Y)**2))/(len(Y)-1)\n",
    "        self.r2=lxy**2/(lxx*lyy)\n",
    "        param_=[self.beta,self.alpha]\n",
    "        return param_,self.mse,self.r2"
   ]
  },
  {
   "cell_type": "code",
   "execution_count": 10,
   "metadata": {},
   "outputs": [
    {
     "name": "stdout",
     "output_type": "stream",
     "text": [
      "alpha:2.005\n",
      "\n",
      "beta:0.999\n",
      "\n",
      "mse:0.990\n",
      "\n",
      "r2:0.800\n"
     ]
    }
   ],
   "source": [
    "#循环200次求结果的均值\n",
    "alpha_i=[]\n",
    "beta_i=[]\n",
    "mse_i=[]\n",
    "r2_i=[]\n",
    "for i in range(1000):\n",
    "    lr=Model()\n",
    "    alpha=lr.fit(X_i[i][0],Y_i[i][0])[0][1]\n",
    "    beta=lr.fit(X_i[i][0],Y_i[i][0])[0][0]\n",
    "    mse=lr.fit(X_i[i][0],Y_i[i][0])[1]\n",
    "    r2=lr.fit(X_i[i][0],Y_i[i][0])[2]\n",
    "    alpha_i.append(alpha)\n",
    "    beta_i.append(beta)\n",
    "    mse_i.append(mse)\n",
    "    r2_i.append(r2)\n",
    "print('alpha:%1.3f'%np.array(alpha_i).mean())\n",
    "print('\\nbeta:%1.3f'%np.array(beta_i).mean())\n",
    "print('\\nmse:%1.3f'%np.array(mse_i).mean())\n",
    "print('\\nr2:%1.3f'%np.array(r2_i).mean())"
   ]
  },
  {
   "cell_type": "code",
   "execution_count": 11,
   "metadata": {},
   "outputs": [
    {
     "data": {
      "image/png": "[encoded data removed]",
      "text/plain": [
       "<Figure size 432x288 with 1 Axes>"
      ]
     },
     "metadata": {
      "needs_background": "light"
     },
     "output_type": "display_data"
    }
   ],
   "source": [
    "#以第二次抽样为例进行可视化\n",
    "X_1=X_i[1][0]\n",
    "Y_1=Y_i[1][0]\n",
    "plt.figure()\n",
    "plt.scatter(X_1,Y_1)\n",
    "plt.plot(X_1,X_1*alpha_i[1]+beta_i[1],color='red')\n",
    "plt.xlabel('X')\n",
    "plt.ylabel('Y',rotation=0)\n",
    "plt.text(1, -2, '\\nmse: %1.3f'%np.array(mse_i)[1])\n",
    "plt.text(1, -2.7, '\\n   r2: %1.3f'%np.array(r2_i)[1])\n",
    "plt.show()"
   ]
  },
  {
   "cell_type": "code",
   "execution_count": null,
   "metadata": {},
   "outputs": [],
   "source": []
  }
 ],
 "metadata": {
  "kernelspec": {
   "display_name": "Python 3",
   "language": "python",
   "name": "python3"
  },
  "language_info": {
   "codemirror_mode": {
    "name": "ipython",
    "version": 3
   },
   "file_extension": ".py",
   "mimetype": "text/x-python",
   "name": "python",
   "nbconvert_exporter": "python",
   "pygments_lexer": "ipython3",
   "version": "3.8.5"
  }
 },
 "nbformat": 4,
 "nbformat_minor": 4
}
